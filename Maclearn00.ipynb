{
 "cells": [
  {
   "cell_type": "code",
   "execution_count": 1,
   "metadata": {},
   "outputs": [
    {
     "ename": "SyntaxError",
     "evalue": "invalid syntax (<ipython-input-1-ba3779e32f39>, line 22)",
     "output_type": "error",
     "traceback": [
      "\u001b[1;36m  File \u001b[1;32m\"<ipython-input-1-ba3779e32f39>\"\u001b[1;36m, line \u001b[1;32m22\u001b[0m\n\u001b[1;33m    def DataTrain('test.csv', dataTrain=[]):\u001b[0m\n\u001b[1;37m                           ^\u001b[0m\n\u001b[1;31mSyntaxError\u001b[0m\u001b[1;31m:\u001b[0m invalid syntax\n"
     ]
    }
   ],
   "source": [
    "#import library\n",
    "import csv\n",
    "import random\n",
    "import math\n",
    "import operator\n",
    "import time\n",
    "import xlsxwriter\n",
    "\n",
    "\n",
    "dataTrain = []\n",
    "role =[]\n",
    "name = []\n",
    "newFile =[]\n",
    "a = 'MARKSMAN'\n",
    "b = 'MAGE'\n",
    "c = 'TANK'\n",
    "d = 'ASSASIN'\n",
    "e = 'FIGHTER'\n",
    "f = 'SUPPORT'\n",
    "\n",
    "#Load Data CSV\n",
    "def DataTrain('test.csv', dataTrain=[]):\n",
    "\twith open('test.csv','rb') as csvfile:\n",
    "    \tbarisData = csv.reader(csvfile)\n",
    "    \tnext(barisData,None)\n",
    "    \tdataset = list(barisData)\n",
    "    \t\tfor i in range(len(dataset)):\n",
    "        \tdataTrain.append(dataset[i])\n",
    "\n",
    "DataTrain('test.csv', trainingSet);\n",
    "#Implementasi Rule\n",
    "for i in range(len(dataTrain)):\n",
    "\tname.append(dataTrain[i][0])\n",
    "\tif int(dataTrain[i][5]) >= 500 :\n",
    "\t\trole.append(b)\n",
    "\telif int(dataTrain[i][1]) >= 270 :\n",
    "\t\t\n",
    "\t\trole.append(a)\n",
    "\telif int(dataTrain[i][3]) >= 25 :\n",
    "\t\t\n",
    "\t\trole.append(c)\n",
    "\telif int(dataTrain[i][2]) >= 121 :\n",
    "\t\t\n",
    "\t\trole.append(d)\n",
    "\telif int(dataTrain[i][4]) >= 2580 :\n",
    "\t\t\n",
    "\t\trole.append(e)\n",
    "\telse :\n",
    "\t\t\n",
    "\t\trole.append(f)\n",
    "\tnewFile.append([name[i],role[i]])\n",
    "\n",
    "#Save File CSV\n",
    "with open('prediction.csv', 'wb') as csvfile:\n",
    "    fieldnames = ['Name', 'Role']\n",
    "    writer = csv.DictWriter(csvfile, fieldnames=fieldnames)\n",
    "\n",
    "    writer.writeheader()\n",
    "    for i in range(len(newFile)):\n",
    "    \twriter.writerow({'Name': newFile[i][0], 'Role': newFile[i][1]})\n",
    "\n",
    "\n"
   ]
  },
  {
   "cell_type": "code",
   "execution_count": null,
   "metadata": {
    "collapsed": true
   },
   "outputs": [],
   "source": []
  },
  {
   "cell_type": "code",
   "execution_count": null,
   "metadata": {
    "collapsed": true
   },
   "outputs": [],
   "source": []
  },
  {
   "cell_type": "code",
   "execution_count": null,
   "metadata": {
    "collapsed": true
   },
   "outputs": [],
   "source": []
  },
  {
   "cell_type": "code",
   "execution_count": null,
   "metadata": {
    "collapsed": true
   },
   "outputs": [],
   "source": []
  },
  {
   "cell_type": "code",
   "execution_count": null,
   "metadata": {
    "collapsed": true
   },
   "outputs": [],
   "source": []
  },
  {
   "cell_type": "code",
   "execution_count": null,
   "metadata": {
    "collapsed": true
   },
   "outputs": [],
   "source": []
  }
 ],
 "metadata": {
  "kernelspec": {
   "display_name": "Python 3",
   "language": "python",
   "name": "python3"
  },
  "language_info": {
   "codemirror_mode": {
    "name": "ipython",
    "version": 3
   },
   "file_extension": ".py",
   "mimetype": "text/x-python",
   "name": "python",
   "nbconvert_exporter": "python",
   "pygments_lexer": "ipython3",
   "version": "3.6.3"
  }
 },
 "nbformat": 4,
 "nbformat_minor": 2
}
